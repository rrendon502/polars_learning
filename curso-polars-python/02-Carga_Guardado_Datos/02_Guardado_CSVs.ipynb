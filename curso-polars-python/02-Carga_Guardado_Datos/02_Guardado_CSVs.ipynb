{
 "cells": [
  {
   "cell_type": "markdown",
   "metadata": {},
   "source": [
    "# Módulo 2: Guardado de DataFrames en Archivos CSV con Polars"
   ]
  },
  {
   "cell_type": "markdown",
   "metadata": {},
   "source": [
    "Una vez que hemos trabajado con nuestros datos y hemos obtenido un DataFrame resultante, a menudo necesitamos guardarlo en un archivo. El formato CSV es uno de los más comunes para esta tarea.\n",
    "\n",
    "Polars ofrece el método `DataFrame.write_csv()` para guardar DataFrames en formato CSV, permitiendo controlar diversos aspectos del archivo de salida."
   ]
  },
  {
   "cell_type": "code",
   "metadata": {},
   "outputs": [],
   "execution_count": null,
   "source": [
    "import polars as pl\n",
    "import os # Para verificar la existencia de archivos y eliminarlos\n",
    "\n",
    "# Crear un DataFrame de ejemplo\n",
    "data_ejemplo = {\n",
    "    \"ID\": [1, 2, 3, 4],\n",
    "    \"Nombre\": [\"Ana\", \"Luis\", \"Eva\", \"Juan\"],\n",
    "    \"Edad\": [28, 34, None, 45],\n",
    "    \"Puntuacion\": [85.5, 90.0, 78.3, None],\n",
    "    \"Activo\": [True, False, True, False]\n",
    "}\n",
    "df_ejemplo = pl.DataFrame(data_ejemplo)\n",
    "\n",
    "print(\"DataFrame de Ejemplo:\")\n",
    "print(df_ejemplo)"
   ]
  },
  {
   "cell_type": "markdown",
   "metadata": {},
   "source": [
    "## Guardado Básico con `write_csv()`\n",
    "\n",
    "La forma más simple de usar `write_csv()` es proporcionar la ruta del archivo donde se guardará el DataFrame. Por defecto:\n",
    "- Se usa una coma (`,`) como separador.\n",
    "- Se incluye la fila de encabezado (nombres de las columnas).\n",
    "- Los valores nulos se escriben como cadenas vacías (`\"\"`)."
   ]
  },
  {
   "cell_type": "code",
   "metadata": {},
   "outputs": [],
   "execution_count": null,
   "source": [
    "file_path_basico = \"df_guardado_basico.csv\"\n",
    "\n",
    "print(f\"Guardando DataFrame en: {file_path_basico}\")\n",
    "df_ejemplo.write_csv(file_path_basico)\n",
    "\n",
    "# Verificar leyendo el archivo guardado\n",
    "if os.path.exists(file_path_basico):\n",
    "    df_leido_basico = pl.read_csv(file_path_basico)\n",
    "    print(\"\\nContenido del CSV guardado (básico) y releído:\")\n",
    "    print(df_leido_basico)\n",
    "    # Los nulos en Polars se leen por defecto como nulos si son cadenas vacías\n",
    "    print(\"\\nValores nulos en el DataFrame releído:\")\n",
    "    print(df_leido_basico.is_null())\n",
    "    # os.remove(file_path_basico) # Comentado para que el archivo persista para otros ejemplos si es necesario\n",
    "else:\n",
    "    print(f\"Error: El archivo {file_path_basico} no fue creado.\")"
   ]
  },
  {
   "cell_type": "markdown",
   "metadata": {},
   "source": [
    "## Especificar el Separador (`separator`)\n",
    "\n",
    "Podemos especificar un delimitador diferente usando el parámetro `separator`. Por ejemplo, para usar punto y coma (`;`) o tabuladores (`\\t`)."
   ]
  },
  {
   "cell_type": "code",
   "metadata": {},
   "outputs": [],
   "execution_count": null,
   "source": [
    "file_path_separador = \"df_guardado_separador.csv\"\n",
    "\n",
    "print(f\"\\nGuardando DataFrame en: {file_path_separador} con separador ';'...\")\n",
    "df_ejemplo.write_csv(file_path_separador, separator=';')\n",
    "\n",
    "# Verificar leyendo el archivo guardado\n",
    "if os.path.exists(file_path_separador):\n",
    "    df_leido_separador = pl.read_csv(file_path_separador, separator=';')\n",
    "    print(\"\\nContenido del CSV guardado (separador ';') y releído:\")\n",
    "    print(df_leido_separador)\n",
    "    # os.remove(file_path_separador)\n",
    "else:\n",
    "    print(f\"Error: El archivo {file_path_separador} no fue creado.\")"
   ]
  },
  {
   "cell_type": "markdown",
   "metadata": {},
   "source": [
    "## Excluir el Encabezado (`has_header=False`)\n",
    "\n",
    "Si no deseamos incluir la fila de encabezado en el archivo CSV de salida, podemos establecer `has_header=False`."
   ]
  },
  {
   "cell_type": "code",
   "metadata": {},
   "outputs": [],
   "execution_count": null,
   "source": [
    "file_path_sin_header = \"df_guardado_sin_header.csv\"\n",
    "\n",
    "print(f\"\\nGuardando DataFrame en: {file_path_sin_header} sin encabezado...\")\n",
    "df_ejemplo.write_csv(file_path_sin_header, has_header=False)\n",
    "\n",
    "# Verificar leyendo el archivo guardado\n",
    "if os.path.exists(file_path_sin_header):\n",
    "    # Al leer, debemos indicar que no tiene encabezado y, opcionalmente, proporcionar los nombres de columna\n",
    "    df_leido_sin_header = pl.read_csv(\n",
    "        file_path_sin_header, \n",
    "        has_header=False, \n",
    "        new_columns=df_ejemplo.columns # Usamos los nombres originales para una comparación fácil\n",
    "    )\n",
    "    print(\"\\nContenido del CSV guardado (sin encabezado) y releído:\")\n",
    "    print(df_leido_sin_header)\n",
    "    # os.remove(file_path_sin_header)\n",
    "else:\n",
    "    print(f\"Error: El archivo {file_path_sin_header} no fue creado.\")"
   ]
  },
  {
   "cell_type": "markdown",
   "metadata": {},
   "source": [
    "## Manejo de Valores Nulos (`null_value`)\n",
    "\n",
    "Por defecto, Polars escribe los valores nulos (`None` en Python, o `null` en Polars) como cadenas vacías (`\"\"`) en el archivo CSV.\n",
    "Podemos cambiar este comportamiento usando el parámetro `null_value` para especificar una cadena de texto diferente que represente los nulos."
   ]
  },
  {
   "cell_type": "code",
   "metadata": {},
   "outputs": [],
   "execution_count": null,
   "source": [
    "# df_ejemplo ya contiene nulos. Si no, crearíamos uno como:\n",
    "# data_con_nulos = {'colA': [1, None, 3], 'colB': [None, 'b', 'c'], 'colC': [True, False, None]}\n",
    "# df_con_nulos = pl.DataFrame(data_con_nulos)\n",
    "\n",
    "file_path_nulos = \"df_guardado_nulos.csv\"\n",
    "null_representation = \"N/A\"\n",
    "\n",
    "print(f\"\\nGuardando DataFrame en: {file_path_nulos} con null_value='{null_representation}'...\")\n",
    "df_ejemplo.write_csv(file_path_nulos, null_value=null_representation)\n",
    "\n",
    "# Verificar leyendo el archivo guardado\n",
    "if os.path.exists(file_path_nulos):\n",
    "    # Al leer, debemos especificar cómo se representaron los nulos\n",
    "    df_leido_nulos = pl.read_csv(file_path_nulos, null_values=null_representation)\n",
    "    print(\"\\nContenido del CSV guardado (null_value='N/A') y releído:\")\n",
    "    print(df_leido_nulos)\n",
    "    print(\"\\nValores nulos en el DataFrame releído:\")\n",
    "    print(df_leido_nulos.is_null())\n",
    "    # os.remove(file_path_nulos)\n",
    "else:\n",
    "    print(f\"Error: El archivo {file_path_nulos} no fue creado.\")"
   ]
  },
  {
   "cell_type": "markdown",
   "metadata": {},
   "source": [
    "## Otros Parámetros (Breve Mención)\n",
    "\n",
    "El método `write_csv()` ofrece otros parámetros para un control más fino sobre la salida, tales como:\n",
    "\n",
    "- `date_format`: String para formatear columnas de tipo `Date` (e.g., `\"%Y-%m-%d\"`).\n",
    "- `datetime_format`: String para formatear columnas de tipo `Datetime` (e.g., `\"%Y-%m-%d %H:%M:%S\"`).\n",
    "- `float_precision`: Número de dígitos de precisión para números de punto flotante.\n",
    "- `quote_char`: Carácter usado para entrecomillar campos (por defecto `\"`).\n",
    "- `batch_size`: Número de filas a escribir a la vez; puede afectar el rendimiento y uso de memoria para DataFrames muy grandes.\n",
    "\n",
    "Estos parámetros son útiles en escenarios más específicos donde se requiere un formato de salida particular."
   ]
  },
  {
   "cell_type": "markdown",
   "metadata": {},
   "source": [
    "## Limpieza de Archivos Creados\n",
    "\n",
    "Finalmente, eliminamos los archivos CSV que hemos creado durante este notebook para mantener limpio el directorio."
   ]
  },
  {
   "cell_type": "code",
   "metadata": {},
   "outputs": [],
   "execution_count": null,
   "source": [
    "archivos_creados = [\n",
    "    file_path_basico,\n",
    "    file_path_separador,\n",
    "    file_path_sin_header,\n",
    "    file_path_nulos\n",
    "]\n",
    "\n",
    "print(\"\\nLimpiando archivos generados...\")\n",
    "for f_path in archivos_creados:\n",
    "    if os.path.exists(f_path):\n",
    "        os.remove(f_path)\n",
    "        print(f\"Archivo '{f_path}' eliminado.\")\n",
    "    else:\n",
    "        print(f\"Archivo '{f_path}' no encontrado (posiblemente ya eliminado o no creado).\")"
   ]
  }
 ],
 "metadata": {
  "kernelspec": {
   "display_name": "Python 3 (ipykernel)",
   "language": "python",
   "name": "python3"
  },
  "language_info": {
   "codemirror_mode": {
    "name": "ipython",
    "version": 3
   },
   "file_extension": ".py",
   "mimetype": "text/x-python",
   "name": "python",
   "nbconvert_exporter": "python",
   "pygments_lexer": "ipython3",
   "version": "3.10.12"
  }
 },
 "nbformat": 4,
 "nbformat_minor": 5
}
