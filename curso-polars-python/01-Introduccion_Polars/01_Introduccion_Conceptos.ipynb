{
 "cells": [
  {
   "cell_type": "markdown",
   "metadata": {},
   "source": [
    "# Módulo 1: Conceptos Fundamentales de Polars"
   ]
  },
  {
   "cell_type": "markdown",
   "metadata": {},
   "source": [
    "## ¿Qué es Polars?\n",
    "Polars es una biblioteca de procesamiento de DataFrames ultrarrápida escrita en Rust, utilizando el motor de consultas vectorizadas Apache Arrow Columnar Format como base para el manejo eficiente de la memoria. \n",
    "\n",
    "### Ventajas Clave:\n",
    "- **Rendimiento:** Polars está diseñado desde cero para el procesamiento paralelo y vectorizado. Su motor de consultas optimiza las operaciones para ejecutarse muy rápidamente, a menudo superando a Pandas, especialmente en conjuntos de datos grandes.\n",
    "- **Eficiencia de Memoria:** Utiliza Apache Arrow para representar datos en memoria, lo que reduce la sobrecarga de memoria y permite el mapeo de memoria cero (zero-copy) para ciertas operaciones.\n",
    "- **API Expresiva y Moderna:** Ofrece una sintaxis concisa y potente que permite encadenar operaciones de forma intuitiva. La API es consistente y está diseñada para evitar errores comunes.\n",
    "- **Evaluación Perezosa (Lazy Evaluation):** Polars puede construir un plan de consulta lógico y optimizarlo antes de ejecutar cualquier cálculo. Esto permite a Polars optimizar la consulta completa, reduciendo el uso de memoria y mejorando el rendimiento."
   ]
  },
  {
   "cell_type": "markdown",
   "metadata": {},
   "source": [
    "## Polars vs Pandas\n",
    "Aunque Pandas es la librería más popular para la manipulación de datos en Python, Polars ofrece varias ventajas en escenarios específicos, especialmente con grandes volúmenes de datos.\n",
    "\n",
    "| Característica        | Polars                                      | Pandas                                     |\n",
    "|-----------------------|---------------------------------------------|--------------------------------------------|\n",
    "| **Motor Subyacente**  | Rust, Apache Arrow                          | Principalmente NumPy (C para algunas ops)  |\n",
    "| **Paralelización**    | Automática y explícita                      | Limitada (requiere herramientas externas)  |\n",
    "| **Manejo de Índices** | No tiene un índice explícito como Pandas    | Índices explícitos (puede ser complejo)    |\n",
    "| **Mutabilidad**       | Inmutable (favorece la transformación)      | Mutable (puede llevar a efectos secundarios)|\n",
    "| **Tipos de Datos**    | Estricto, basado en Arrow (e.g. `pl.Utf8`)  | Más flexible (e.g. `object` para strings) |\n",
    "| **API**               | Expresiva, orientada a métodos en cadena    | Amplia, pero a veces inconsistente         |\n",
    "| **Evaluación Perezosa**| Soportada nativamente (LazyFrames)          | No directamente (algunas alternativas)     |\n",
    "| **Rendimiento (Grande)| Generalmente más rápido                     | Puede ser más lento                        |"
   ]
  },
  {
   "cell_type": "markdown",
   "metadata": {},
   "source": [
    "## Instalación\n",
    "Puedes instalar Polars usando pip o conda.\n",
    "\n",
    "Con pip:\n",
    "```bash\n",
    "pip install polars\n",
    "```\n",
    "\n",
    "Con conda:\n",
    "```bash\n",
    "conda install polars -c conda-forge\n",
    "```\n",
    "\n",
    "Para incluir funcionalidades opcionales (como conectores a diferentes fuentes de datos, o mayor optimización para ciertas CPUs), puedes instalarlo con extras:\n",
    "```bash\n",
    "pip install polars[all] # Instala todas las dependencias opcionales\n",
    "pip install polars[numpy,pandas] # Ejemplo para incluir compatibilidad con NumPy y Pandas\n",
    "```"
   ]
  },
  {
   "cell_type": "markdown",
   "metadata": {},
   "source": [
    "## Importar Polars\n",
    "La convención común para importar Polars es usar el alias `pl`."
   ]
  },
  {
   "cell_type": "code",
   "metadata": {},
   "outputs": [],
   "execution_count": null,
   "source": [
    "import polars as pl\n",
    "print(f\"Polars version: {pl.__version__}\")"
   ]
  },
  {
   "cell_type": "markdown",
   "metadata": {},
   "source": [
    "## Polars Series\n",
    "Una **Serie** en Polars es una estructura de datos unidimensional que representa una columna de datos. Cada Serie tiene un nombre y un tipo de dato (`dtype`) homogéneo para todos sus elementos.\n",
    "\n",
    "### Creación de Series:\n",
    "Puedes crear Series de Polars de varias maneras, siendo la más común a partir de una lista de Python."
   ]
  },
  {
   "cell_type": "code",
   "metadata": {},
   "outputs": [],
   "execution_count": null,
   "source": [
    "# Serie con nombre y tipo de dato inferido (Int64 por defecto para enteros)\n",
    "s1 = pl.Series(\"columna_a\", [1, 2, 3, 4, 5])\n",
    "print(\"Serie s1:\")\n",
    "print(s1)\n",
    "\n",
    "# Serie especificando el nombre y el tipo de dato (Float32)\n",
    "s2 = pl.Series(\"columna_b\", [1.0, 2.5, 3.0, 4.5, 5.5], dtype=pl.Float32)\n",
    "print(\"\\nSerie s2:\")\n",
    "print(s2)\n",
    "\n",
    "# Serie de strings, con un valor nulo (None)\n",
    "s3 = pl.Series(\"nombres\", [\"ana\", \"luis\", \"pedro\", None, \"sofia\"])\n",
    "print(\"\\nSerie s3:\")\n",
    "print(s3)"
   ]
  },
  {
   "cell_type": "markdown",
   "metadata": {},
   "source": [
    "## Atributos y Operaciones Básicas de Series\n",
    "Las Series tienen varios atributos útiles y soportan una amplia gama de operaciones.\n",
    "\n",
    "### Atributos Comunes:\n",
    "- `name`: El nombre de la Serie.\n",
    "- `dtype`: El tipo de dato de los elementos en la Serie.\n",
    "- `shape`: Una tupla que representa las dimensiones (para Series, es `(n_rows,)`).\n",
    "- `len()`: Devuelve el número de elementos en la Serie.\n",
    "\n",
    "### Operaciones Básicas:\n",
    "- **Aritméticas:** `+`, `-`, `*`, `/`, etc. (se realizan elemento a elemento).\n",
    "- **Comparaciones:** `>`, `<`, `==`, `!=`, etc. (devuelven Series booleanas).\n",
    "- **Métodos Comunes:** `sum()`, `mean()`, `min()`, `max()`, `std()`, `var()`, `median()`, `quantile()`, `value_counts()`, `unique()`, `n_unique()`, `is_null()`, `null_count()`, `fill_null()`, `sort()`, `abs()`."
   ]
  },
  {
   "cell_type": "code",
   "metadata": {},
   "outputs": [],
   "execution_count": null,
   "source": [
    "print(f\"Nombre de s1: {s1.name}\")\n",
    "print(f\"Tipo de dato de s1: {s1.dtype}\")\n",
    "print(f\"Shape de s1: {s1.shape}\")\n",
    "print(f\"Longitud de s1: {len(s1)}\")\n",
    "\n",
    "print(f\"\\nSuma de s1: {s1.sum()}\")\n",
    "print(f\"Media de s2: {s2.mean()}\")\n",
    "print(f\"Máximo de s1: {s1.max()}\")\n",
    "\n",
    "print(f\"\\nValores nulos en s3: {s3.is_null()}\")\n",
    "print(f\"Conteo de nulos en s3: {s3.null_count()}\")\n",
    "print(f\"Conteo de valores en s3: \\n{s3.value_counts()}\")"
   ]
  },
  {
   "cell_type": "markdown",
   "metadata": {},
   "source": [
    "## Polars DataFrames\n",
    "Un **DataFrame** en Polars es una estructura de datos tabular bidimensional, similar a una hoja de cálculo o una tabla SQL. Consiste en una colección ordenada de columnas (Series) que comparten la misma longitud.\n",
    "\n",
    "### Creación de DataFrames:\n",
    "Los DataFrames se pueden crear a partir de diversas fuentes:"
   ]
  },
  {
   "cell_type": "code",
   "metadata": {},
   "outputs": [],
   "execution_count": null,
   "source": [
    "# 1. Desde un diccionario de Python donde las claves son nombres de columnas y los valores son listas o Series de Polars\n",
    "df_dict = pl.DataFrame({\n",
    "    \"col_int\": [1, 2, 3, 4, 5],\n",
    "    \"col_str\": [\"a\", \"b\", \"c\", \"d\", \"e\"],\n",
    "    \"col_float\": pl.Series(\"floats\", [1.1, 2.2, 3.3, 4.4, 5.5])\n",
    "})\n",
    "print(\"DataFrame desde diccionario:\")\n",
    "print(df_dict)\n",
    "\n",
    "# 2. Desde una lista de diccionarios (cada diccionario representa una fila)\n",
    "data_list_of_dicts = [\n",
    "    {\"id\": 1, \"producto\": \"Manzana\", \"precio\": 0.5},\n",
    "    {\"id\": 2, \"producto\": \"Banana\", \"precio\": 0.3},\n",
    "    {\"id\": 3, \"producto\": \"Naranja\", \"precio\": 0.4}\n",
    "]\n",
    "df_list_dicts = pl.DataFrame(data_list_of_dicts)\n",
    "print(\"\\nDataFrame desde lista de diccionarios:\")\n",
    "print(df_list_dicts)\n",
    "\n",
    "# 3. (Opcional) Desde un array NumPy\n",
    "import numpy as np\n",
    "np_array = np.array([\n",
    "    [10, 20.5, \"X\"],\n",
    "    [30, 40.5, \"Y\"],\n",
    "    [50, 60.5, \"Z\"]\n",
    "])\n",
    "# Polars intentará inferir los tipos, pero es mejor ser explícito con `schema` si son mixtos\n",
    "# Para este ejemplo, convertiremos todo a string o especificaremos un schema más preciso si todos fueran numéricos.\n",
    "# Aquí, Polars inferirá object para la tercera columna si no se especifica schema, o podemos forzar schema.\n",
    "df_numpy = pl.DataFrame(np_array, schema=[\"entero\", \"flotante\", \"caracter\"])\n",
    "print(\"\\nDataFrame desde NumPy array (con schema explícito):\")\n",
    "print(df_numpy)\n",
    "\n",
    "# Para que los tipos se interpreten correctamente desde NumPy, es mejor que el array tenga dtypes homogéneos por columna\n",
    "# o que las columnas sean Series de Polars individuales.\n",
    "np_array_typed = np.array([(1, 2.0, 'a'), (2, 3.0, 'b')], dtype=[('c1', 'i4'), ('c2', 'f8'), ('c3', 'U1')])\n",
    "df_numpy_typed = pl.from_numpy(np_array_typed) # pl.from_numpy es más robusto para arrays estructurados\n",
    "print(\"\\nDataFrame desde NumPy array estructurado:\")\n",
    "print(df_numpy_typed)\n",
    "\n",
    "# 4. (Opcional) Desde un DataFrame de Pandas\n",
    "try:\n",
    "    import pandas as pd\n",
    "    pandas_df = pd.DataFrame({\n",
    "        'col_A': [100, 200, 300],\n",
    "        'col_B': ['p', 'q', 'r']\n",
    "    })\n",
    "    df_from_pandas = pl.from_pandas(pandas_df)\n",
    "    print(\"\\nDataFrame desde Pandas DataFrame:\")\n",
    "    print(df_from_pandas)\n",
    "except ImportError:\n",
    "    print(\"\\nPandas no está instalado. Omitiendo ejemplo de conversión Pandas a Polars.\")"
   ]
  },
  {
   "cell_type": "markdown",
   "metadata": {},
   "source": [
    "## Atributos e Inspección Básica de DataFrames\n",
    "Los DataFrames también tienen atributos y métodos para entender su estructura y contenido.\n",
    "\n",
    "### Atributos Comunes:\n",
    "- `shape`: Tupla `(n_rows, n_columns)`.\n",
    "- `height`: Número de filas.\n",
    "- `width`: Número de columnas.\n",
    "- `columns`: Lista de los nombres de las columnas.\n",
    "- `dtypes`: Lista de los tipos de datos de cada columna.\n",
    "\n",
    "### Métodos de Inspección:\n",
    "- `head(n)`: Muestra las primeras `n` filas (por defecto 5).\n",
    "- `tail(n)`: Muestra las últimas `n` filas (por defecto 5).\n",
    "- `describe()`: Calcula estadísticas descriptivas (conteo, media, std, min, max, percentiles) para columnas numéricas.\n",
    "- `glimpse()`: Muestra una vista rápida del DataFrame, incluyendo nombres de columna, tipos de datos y algunas filas de ejemplo (similar a `str()` en R).\n",
    "- `sample(n, frac)`: Obtiene una muestra aleatoria de `n` filas o una fracción `frac` de filas.\n",
    "\n",
    "### Seleccionar Columnas:\n",
    "Puedes seleccionar una o más columnas usando el método `select()`."
   ]
  },
  {
   "cell_type": "code",
   "metadata": {},
   "outputs": [],
   "execution_count": null,
   "source": [
    "print(f\"Shape de df_dict: {df_dict.shape}\")\n",
    "print(f\"Altura (height) de df_dict: {df_dict.height}\")\n",
    "print(f\"Ancho (width) de df_dict: {df_dict.width}\")\n",
    "print(f\"Columnas de df_dict: {df_dict.columns}\")\n",
    "print(f\"Tipos de datos de df_dict: {df_dict.dtypes}\")\n",
    "\n",
    "print(\"\\nPrimeras 2 filas (head):\")\n",
    "print(df_dict.head(2))\n",
    "\n",
    "print(\"\\nÚltimas 2 filas (tail):\")\n",
    "print(df_dict.tail(2))\n",
    "\n",
    "print(\"\\nDescripción estadística (describe):\")\n",
    "print(df_dict.describe()) # Solo para columnas numéricas/booleanas por defecto\n",
    "\n",
    "print(\"\\nVistazo (glimpse):\")\n",
    "df_dict.glimpse()\n",
    "\n",
    "print(\"\\nMuestra de 2 filas (sample):\")\n",
    "print(df_dict.sample(n=2))\n",
    "\n",
    "print(\"\\nSeleccionar una columna ('col_int'):\")\n",
    "print(df_dict.select(\"col_int\"))\n",
    "\n",
    "print(\"\\nSeleccionar múltiples columnas (['col_str', 'col_float']):\")\n",
    "print(df_dict.select([\"col_str\", \"col_float\"]))\n",
    "\n",
    "print(\"\\nSeleccionar una columna también devuelve un DataFrame. Para obtener una Serie:\")\n",
    "serie_col_int = df_dict.get_column(\"col_int\")\n",
    "print(type(serie_col_int))\n",
    "print(serie_col_int)"
   ]
  }
 ],
 "metadata": {
  "kernelspec": {
   "display_name": "Python 3",
   "language": "python",
   "name": "python3"
  },
  "language_info": {
   "codemirror_mode": {
    "name": "ipython",
    "version": 3
   },
   "file_extension": ".py",
   "mimetype": "text/x-python",
   "name": "python",
   "nbconvert_exporter": "python",
   "pygments_lexer": "ipython3",
   "version": "3.10.12"
  }
 },
 "nbformat": 4,
 "nbformat_minor": 5
}
